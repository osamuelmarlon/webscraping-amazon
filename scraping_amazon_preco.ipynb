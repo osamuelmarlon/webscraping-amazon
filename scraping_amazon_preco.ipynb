{
 "cells": [
  {
   "cell_type": "markdown",
   "id": "4bde0115-c0a1-4b64-aaab-d37d44a603f4",
   "metadata": {},
   "source": [
    "# Web Scraping de Preços de Produtos na Amazon\n",
    "\n",
    "## Descrição Geral\n",
    "\n",
    "Este script faz a automação do processo de extração de dados (web scraping) de um produto específico na Amazon. Ele utiliza **Selenium** para navegar na página, **BeautifulSoup** para extrair o conteúdo HTML, e outras bibliotecas auxiliares para manipulação e organização dos dados extraídos.\n",
    "\n",
    "O objetivo do script é capturar o preço do produto exibido na página e, posteriormente, armazenar ou manipular essas informações conforme a necessidade.\n",
    "\n",
    "## Dependências\n",
    "\n",
    "O script utiliza as seguintes bibliotecas externas:\n",
    "\n",
    "1. **Selenium**: Para automação do navegador web e interação com a página.\n",
    "2. **Webdriver-manager**: Para gerenciar automaticamente o download e instalação do WebDriver para o Selenium.\n",
    "3. **BeautifulSoup (bs4)**: Para fazer o parsing e navegação no HTML da página.\n",
    "4. **Requests**: Para realizar requisições HTTP e acessar páginas web (opcional neste caso).\n",
    "5. **re**: Para buscar expressões regulares no HTML.\n"
   ]
  },
  {
   "cell_type": "markdown",
   "id": "c0aed608-f259-44d8-a541-df7766fe526c",
   "metadata": {},
   "source": [
    "# Fluxo do Programa"
   ]
  },
  {
   "cell_type": "code",
   "execution_count": null,
   "id": "b12c2784-f9a5-488e-a229-ad45fc723415",
   "metadata": {},
   "outputs": [],
   "source": [
    "# importação de bibliotecas\n",
    "!pip install selenium\n",
    "!pip install webdriver-manager\n",
    "\n",
    "from selenium import webdriver\n",
    "from selenium.webdriver.chrome.service import Service as ChromeService\n",
    "from webdriver_manager.chrome import ChromeDriverManager\n",
    "from bs4 import BeautifulSoup\n",
    "import requests\n",
    "import re"
   ]
  },
  {
   "cell_type": "code",
   "execution_count": 14,
   "id": "6800e715-5b3e-4156-bbd6-93c8d8df90fe",
   "metadata": {},
   "outputs": [],
   "source": [
    "# Conexão com o site\n",
    "\n",
    "URL = \"https://www.amazon.com.br/Fralda-Pampers-Pants-Premium-unidades/dp/B07X5KWJK9/ref=sr_1_2?__mk_pt_BR=%C3%85M%C3%85%C5%BD%C3%95%C3%91&crid=JFLDTRCA0E6G&dib=eyJ2IjoiMSJ9.24NNZgIpxrQ3KhYEF_CSKj8W00UtDKP9IBlEtdIIEkQIJopgToaoYlfzO0MYDHMEHIGDAMniPjysihpNTSbiBpB_60jDptffRvg3x4iyDVajSskC0MV9oUSCnua7p5-Hz5909i6tPn7C1Bj9_84pwRQT9pytP6ut8kHuegbP9sSvdVtwoWGwl8ZKGX8FdFZNsUMsw1UCgXjm5qco_ags6hvVJlVbHDQ8CTOVgiAkwBuV7xS0FiMA2VENTUToN8AuOKKZ1ZGxaOQkjVoZQprTI6uGuNnb2TJe_Qkv1_PTAv0._Vq3Z51G5FbWFFHwqadVP8EVoenLBczgSNoCFG_keK0&dib_tag=se&keywords=fralda+pampers+pants+xg&qid=1729641992&sprefix=fralda+pampers+pants+xg%2Caps%2C225&sr=8-2&ufe=app_do%3Aamzn1.fos.a492fd4a-f54d-4e8d-8c31-35e0a04ce61e\"\n",
    "\n",
    "# Um cabeçalho HTTP é incluído com um \"User-Agent\" para simular o acesso à página como se fosse um usuário comum utilizando um navegador.\n",
    "headers = {\"User-Agent\": \"Mozilla/5.0 (Windows NT 10.0; Win64; x64) AppleWebKit/537.36 (KHTML, like Gecko) Chrome/129.0.0.0 Safari/537.36\"}\n",
    "\n",
    "site = requests.get(URL, headers=headers)"
   ]
  },
  {
   "cell_type": "markdown",
   "id": "0e785cb0-95a0-4e63-90ab-5ccadfb57c97",
   "metadata": {},
   "source": [
    "## Selenium WebDriver\n",
    "\n",
    "O Selenium é configurado para funcionar com o Chrome. \n",
    "O WebDriverManager é usado para garantir que a versão correta do driver do Chrome seja instalada automaticamente. \n",
    "O parâmetro --headless é adicionado para rodar o navegador em segundo plano (sem abrir uma janela visual)."
   ]
  },
  {
   "cell_type": "code",
   "execution_count": 15,
   "id": "5be2ff89-2ba9-4267-99f9-0a33d2314dc9",
   "metadata": {},
   "outputs": [],
   "source": [
    "# Configuração do Selenium WebDriver\n",
    "\n",
    "options = webdriver.ChromeOptions()\n",
    "options.add_argument('--headless')\n",
    "driver = webdriver.Chrome(service=ChromeService(ChromeDriverManager().install()), options=options)\n",
    "\n",
    "driver.get(URL)"
   ]
  },
  {
   "cell_type": "markdown",
   "id": "cdde4029-ac7c-4c84-9ffd-eb729162cb72",
   "metadata": {},
   "source": [
    "## Solução para sites dinâmicos\n",
    "O código usa re.compile('aok-offscreen'). Isso significa que ele está utilizando uma expressão regular (regex), compilada através da função re.compile(). \n",
    "Isso permite que o código busque por classes que contenham ou coincidam com o padrão 'aok-offscreen'. \n",
    "É útil, por exemplo, se a classe variar ligeiramente, mas você quiser garantir que ele capture todas as variantes.\n",
    "\n"
   ]
  },
  {
   "cell_type": "code",
   "execution_count": 16,
   "id": "d7abf268-2173-4b70-93e0-52a67db1dbcc",
   "metadata": {},
   "outputs": [
    {
     "name": "stdout",
     "output_type": "stream",
     "text": [
      "   R$ 109,99  \n"
     ]
    }
   ],
   "source": [
    "# Após o carregamento da página, o BeautifulSoup é usado para analisar o HTML e procurar as informações desejadas (preço do produto).\n",
    "soup = BeautifulSoup(driver.page_source, 'html.parser')\n",
    "\n",
    "preco = soup.find('span', class_=re.compile('aok-offscreen')).get_text()\n",
    "\n",
    "print(preco)\n"
   ]
  },
  {
   "cell_type": "code",
   "execution_count": null,
   "id": "ee9a470e-5085-4abd-b042-210fc44d2697",
   "metadata": {},
   "outputs": [],
   "source": []
  }
 ],
 "metadata": {
  "kernelspec": {
   "display_name": "Python 3 (ipykernel)",
   "language": "python",
   "name": "python3"
  },
  "language_info": {
   "codemirror_mode": {
    "name": "ipython",
    "version": 3
   },
   "file_extension": ".py",
   "mimetype": "text/x-python",
   "name": "python",
   "nbconvert_exporter": "python",
   "pygments_lexer": "ipython3",
   "version": "3.11.7"
  }
 },
 "nbformat": 4,
 "nbformat_minor": 5
}
